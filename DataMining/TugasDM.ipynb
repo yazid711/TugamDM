{
  "nbformat": 4,
  "nbformat_minor": 0,
  "metadata": {
    "colab": {
      "provenance": [],
      "authorship_tag": "ABX9TyNt0sJDyuw59xct2UVbkanN",
      "include_colab_link": true
    },
    "kernelspec": {
      "name": "python3",
      "display_name": "Python 3"
    },
    "language_info": {
      "name": "python"
    }
  },
  "cells": [
    {
      "cell_type": "markdown",
      "metadata": {
        "id": "view-in-github",
        "colab_type": "text"
      },
      "source": [
        "<a href=\"https://colab.research.google.com/github/yazid711/TugamDM/blob/main/DataMining/TugasDM.ipynb\" target=\"_parent\"><img src=\"https://colab.research.google.com/assets/colab-badge.svg\" alt=\"Open In Colab\"/></a>"
      ]
    },
    {
      "cell_type": "code",
      "execution_count": null,
      "metadata": {
        "id": "7LaNfWYCSx8S"
      },
      "outputs": [],
      "source": [
        "import numpy as np\n",
        "import matplotlib.pyplot as plt\n",
        "import pandas as pd"
      ]
    },
    {
      "cell_type": "markdown",
      "source": [
        "ini untuk menampilkan semua data jika yang di cetak x maka yang akan muncul itu semua data kecuali label sedangkan jika yang di cetak itu y maka yang muncul hanyalah label saja\n"
      ],
      "metadata": {
        "id": "B-BVcHDATiB4"
      }
    },
    {
      "cell_type": "code",
      "source": [
        "dataset = pd.read_csv('TugasDM.csv')\n",
        "dataset = pd.read_csv('TugasDM.csv', sep =';')\n",
        "x = dataset.iloc[:,:-1].values\n",
        "y = dataset.iloc[:,-1].values"
      ],
      "metadata": {
        "id": "QTnBmoOcTNvE"
      },
      "execution_count": null,
      "outputs": []
    },
    {
      "cell_type": "markdown",
      "source": [
        "ini tabelnya"
      ],
      "metadata": {
        "id": "bdjM0Qd4T7jp"
      }
    },
    {
      "cell_type": "code",
      "source": [
        "print (x)"
      ],
      "metadata": {
        "colab": {
          "base_uri": "https://localhost:8080/"
        },
        "id": "f88operkTpyT",
        "outputId": "f6a0b737-8b82-4bd3-b632-c6ed4a623a5b"
      },
      "execution_count": null,
      "outputs": [
        {
          "output_type": "stream",
          "name": "stdout",
          "text": [
            "[['Dokter' 40.0 nan]\n",
            " ['Guru' 33.0 2300000.0]\n",
            " ['Dokter' 45.0 5000000.0]\n",
            " ['Progammer' 23.0 4000000.0]\n",
            " ['Dokter' nan 4500000.0]\n",
            " ['Guru' 28.0 1500000.0]\n",
            " ['Insinyur' 18.0 3000000.0]\n",
            " ['Insinyur' 55.0 7000000.0]\n",
            " ['Insinyur' 41.0 5300000.0]\n",
            " ['Dokter' 57.0 6700000.0]]\n"
          ]
        }
      ]
    },
    {
      "cell_type": "markdown",
      "source": [
        "ini labelnya"
      ],
      "metadata": {
        "id": "YkUfa5w-UGfu"
      }
    },
    {
      "cell_type": "code",
      "source": [
        "print (y)"
      ],
      "metadata": {
        "colab": {
          "base_uri": "https://localhost:8080/"
        },
        "id": "Hf18dgn2T-mV",
        "outputId": "1a891767-e970-40c3-cc98-0bc215eb7466"
      },
      "execution_count": null,
      "outputs": [
        {
          "output_type": "stream",
          "name": "stdout",
          "text": [
            "['High' 'Medium' 'High' 'Medium' 'High' 'Low' 'Medium' 'High' 'High'\n",
            " 'High']\n"
          ]
        }
      ]
    },
    {
      "cell_type": "markdown",
      "source": [
        "ini untuk mengisi tabel yang nan"
      ],
      "metadata": {
        "id": "Y96Jf5gUUzWD"
      }
    },
    {
      "cell_type": "code",
      "source": [
        "from sklearn.impute import SimpleImputer\n",
        "imputer = SimpleImputer(missing_values=np.nan, strategy='mean')\n",
        "imputer.fit(x[:, 1:3])\n",
        "x[:, 1:3] = imputer.transform(x[:, 1:3])"
      ],
      "metadata": {
        "id": "DqA1kxzgUhnn"
      },
      "execution_count": null,
      "outputs": []
    },
    {
      "cell_type": "code",
      "source": [
        "print(x)"
      ],
      "metadata": {
        "colab": {
          "base_uri": "https://localhost:8080/"
        },
        "id": "tBYoOLuHUvrH",
        "outputId": "268f852a-1933-4673-8bda-4ffcf863115a"
      },
      "execution_count": null,
      "outputs": [
        {
          "output_type": "stream",
          "name": "stdout",
          "text": [
            "[['Dokter' 40.0 4366666.666666667]\n",
            " ['Guru' 33.0 2300000.0]\n",
            " ['Dokter' 45.0 5000000.0]\n",
            " ['Progammer' 23.0 4000000.0]\n",
            " ['Dokter' 37.77777777777778 4500000.0]\n",
            " ['Guru' 28.0 1500000.0]\n",
            " ['Insinyur' 18.0 3000000.0]\n",
            " ['Insinyur' 55.0 7000000.0]\n",
            " ['Insinyur' 41.0 5300000.0]\n",
            " ['Dokter' 57.0 6700000.0]]\n"
          ]
        }
      ]
    },
    {
      "cell_type": "markdown",
      "source": [
        "ini untuk merubah kolom pertama menjadi numerik"
      ],
      "metadata": {
        "id": "UTFIxgfAVDFL"
      }
    },
    {
      "cell_type": "code",
      "source": [
        "from sklearn.compose import ColumnTransformer\n",
        "from sklearn.preprocessing import OneHotEncoder\n",
        "ct = ColumnTransformer(transformers=[('encoder', OneHotEncoder(), [0])], remainder='passthrough')\n",
        "x = np.array(ct.fit_transform(x))"
      ],
      "metadata": {
        "id": "nAkEMtJZU42t"
      },
      "execution_count": null,
      "outputs": []
    },
    {
      "cell_type": "code",
      "source": [
        "print(x)"
      ],
      "metadata": {
        "colab": {
          "base_uri": "https://localhost:8080/"
        },
        "id": "06O7N5S_U-dD",
        "outputId": "fbcaa9ac-e473-4bef-df5f-574a11b46073"
      },
      "execution_count": null,
      "outputs": [
        {
          "output_type": "stream",
          "name": "stdout",
          "text": [
            "[[1.0 0.0 0.0 0.0 40.0 4366666.666666667]\n",
            " [0.0 1.0 0.0 0.0 33.0 2300000.0]\n",
            " [1.0 0.0 0.0 0.0 45.0 5000000.0]\n",
            " [0.0 0.0 0.0 1.0 23.0 4000000.0]\n",
            " [1.0 0.0 0.0 0.0 37.77777777777778 4500000.0]\n",
            " [0.0 1.0 0.0 0.0 28.0 1500000.0]\n",
            " [0.0 0.0 1.0 0.0 18.0 3000000.0]\n",
            " [0.0 0.0 1.0 0.0 55.0 7000000.0]\n",
            " [0.0 0.0 1.0 0.0 41.0 5300000.0]\n",
            " [1.0 0.0 0.0 0.0 57.0 6700000.0]]\n"
          ]
        }
      ]
    },
    {
      "cell_type": "markdown",
      "source": [
        "ini merubah label menjadi numerik"
      ],
      "metadata": {
        "id": "CeJsgB6IVry8"
      }
    },
    {
      "cell_type": "code",
      "source": [
        "from sklearn.preprocessing import LabelEncoder\n",
        "Le = LabelEncoder()\n",
        "y = Le.fit_transform(y)"
      ],
      "metadata": {
        "id": "I3fgHWATVdob"
      },
      "execution_count": null,
      "outputs": []
    },
    {
      "cell_type": "code",
      "source": [
        "print(y)"
      ],
      "metadata": {
        "colab": {
          "base_uri": "https://localhost:8080/"
        },
        "id": "Opnw8c8kVkdW",
        "outputId": "c8fbf86f-e297-4fe9-864e-1477dcb104a6"
      },
      "execution_count": null,
      "outputs": [
        {
          "output_type": "stream",
          "name": "stdout",
          "text": [
            "[0 2 0 2 0 1 2 0 0 0]\n"
          ]
        }
      ]
    },
    {
      "cell_type": "code",
      "source": [
        "from sklearn.model_selection import train_test_split\n",
        "x_train, x_test, y_train, y_test, = train_test_split(x, y, test_size = 0.2, random_state=1)"
      ],
      "metadata": {
        "id": "1bhkQIDVVxsD"
      },
      "execution_count": null,
      "outputs": []
    },
    {
      "cell_type": "code",
      "source": [
        "print(x_train)"
      ],
      "metadata": {
        "colab": {
          "base_uri": "https://localhost:8080/"
        },
        "id": "jeztnuM5V4BU",
        "outputId": "30569d20-0871-44e8-c20e-7db9d783550f"
      },
      "execution_count": null,
      "outputs": [
        {
          "output_type": "stream",
          "name": "stdout",
          "text": [
            "[[0.0 0.0 1.0 0.0 18.0 3000000.0]\n",
            " [1.0 0.0 0.0 0.0 37.77777777777778 4500000.0]\n",
            " [1.0 0.0 0.0 0.0 40.0 4366666.666666667]\n",
            " [0.0 0.0 0.0 1.0 23.0 4000000.0]\n",
            " [0.0 1.0 0.0 0.0 33.0 2300000.0]\n",
            " [0.0 0.0 1.0 0.0 55.0 7000000.0]\n",
            " [0.0 0.0 1.0 0.0 41.0 5300000.0]\n",
            " [0.0 1.0 0.0 0.0 28.0 1500000.0]]\n"
          ]
        }
      ]
    },
    {
      "cell_type": "code",
      "source": [
        "print(x_test)"
      ],
      "metadata": {
        "colab": {
          "base_uri": "https://localhost:8080/"
        },
        "id": "KMHx0p4-Wxkg",
        "outputId": "e91c8a4c-8593-4138-f430-258bf100c794"
      },
      "execution_count": null,
      "outputs": [
        {
          "output_type": "stream",
          "name": "stdout",
          "text": [
            "[[1.0 0.0 0.0 0.0 45.0 5000000.0]\n",
            " [1.0 0.0 0.0 0.0 57.0 6700000.0]]\n"
          ]
        }
      ]
    },
    {
      "cell_type": "code",
      "source": [
        "print(y_train)"
      ],
      "metadata": {
        "colab": {
          "base_uri": "https://localhost:8080/"
        },
        "id": "25ePbciiW3sz",
        "outputId": "1394180b-f348-46c6-9fe0-1c6cbc8501c6"
      },
      "execution_count": null,
      "outputs": [
        {
          "output_type": "stream",
          "name": "stdout",
          "text": [
            "[2 0 0 2 2 0 0 1]\n"
          ]
        }
      ]
    },
    {
      "cell_type": "code",
      "source": [
        "print(y_test)"
      ],
      "metadata": {
        "colab": {
          "base_uri": "https://localhost:8080/"
        },
        "id": "RUw-cGTRW6lG",
        "outputId": "70c79246-c4c5-421a-84e6-64cb9cf5ee4b"
      },
      "execution_count": null,
      "outputs": [
        {
          "output_type": "stream",
          "name": "stdout",
          "text": [
            "[0 0]\n"
          ]
        }
      ]
    },
    {
      "cell_type": "code",
      "source": [
        "from sklearn.preprocessing import StandardScaler\n",
        "sc = StandardScaler()\n",
        "x_train[:, 3:] = sc.fit_transform(x_train[:, 3:])\n",
        "x_test[:, 3:] = sc.transform(x_test[:, 3:])"
      ],
      "metadata": {
        "id": "uCcDJqJpXD_S"
      },
      "execution_count": null,
      "outputs": []
    },
    {
      "cell_type": "code",
      "source": [
        "print(x_train)"
      ],
      "metadata": {
        "colab": {
          "base_uri": "https://localhost:8080/"
        },
        "id": "UYT0cL0PXd0z",
        "outputId": "1ce2eb03-a6f4-4f30-b7d8-f0a6e6c27256"
      },
      "execution_count": null,
      "outputs": [
        {
          "output_type": "stream",
          "name": "stdout",
          "text": [
            "[[0.0 0.0 1.0 -0.3779644730092272 -1.5096195396677181 -0.6115292616180796]\n",
            " [1.0 0.0 0.0 -0.3779644730092272 0.3029422010463045 0.309602680568149]\n",
            " [1.0 0.0 0.0 -0.3779644730092272 0.5066008235984418 0.22772428570715106]\n",
            " [0.0 0.0 0.0 2.6457513110645903 -1.051387638925409 0.002558699839406095]\n",
            " [0.0 1.0 0.0 -0.3779644730092272 -0.13492383744079095\n",
            "  -1.0413908346383196]\n",
            " [0.0 0.0 1.0 -0.3779644730092272 1.881296525825369 1.8448225842118633]\n",
            " [0.0 0.0 1.0 -0.3779644730092272 0.5982472037469037 0.8008730497341375]\n",
            " [0.0 1.0 0.0 -0.3779644730092272 -0.5931557381831001 -1.5326612038043084]]\n"
          ]
        }
      ]
    },
    {
      "cell_type": "code",
      "source": [
        "print(x_test)"
      ],
      "metadata": {
        "colab": {
          "base_uri": "https://localhost:8080/"
        },
        "id": "WHZqpGi4XgxZ",
        "outputId": "32c817f2-a234-4a02-bd88-e6a69acea9c4"
      },
      "execution_count": null,
      "outputs": [
        {
          "output_type": "stream",
          "name": "stdout",
          "text": [
            "[[1.0 0.0 0.0 -0.3779644730092272 0.9648327243407508 0.6166466612968918]\n",
            " [1.0 0.0 0.0 -0.3779644730092272 2.0645892861222928 1.6605961957746176]]\n"
          ]
        }
      ]
    }
  ]
}